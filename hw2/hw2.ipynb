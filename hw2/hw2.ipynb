{
 "cells": [
  {
   "cell_type": "code",
   "execution_count": 37,
   "id": "afd27d9f",
   "metadata": {},
   "outputs": [],
   "source": [
    "import numpy as np\n",
    "import matplotlib.pyplot as plt\n",
    "%matplotlib inline\n",
    "%config InlineBackend.figure_format = 'retina'"
   ]
  },
  {
   "cell_type": "markdown",
   "id": "2c5f1b31",
   "metadata": {},
   "source": [
    "# Friedmann Equation II\n",
    "\n",
    "I mentioned in class that the second Friedmann equation can be derived from the first Friedmann equation and the continuity equation. Work out the details of this derivation."
   ]
  },
  {
   "cell_type": "markdown",
   "id": "546c8610",
   "metadata": {},
   "source": [
    "### *Solution:*\n",
    "\n",
    "FE I is:\n",
    "\\begin{align*}\n",
    "    \\left(\\frac{\\dot{a}}{a}\\right)^2 &= \\frac{8\\pi G}{3}\\rho - \\frac{k}{a^2}.\n",
    "\\end{align*}\n",
    "Lets take a total derivative of this equation:\n",
    "\\begin{align*}\n",
    "    \\frac{d}{dt}\\left(\\frac{\\dot{a}}{a}\\right)^2 &= \\frac{d}{dt}\\left(\\frac{8\\pi G}{3}\\rho - \\frac{k}{a^2}\\right), \\\\\n",
    "    2\\left(\\frac{\\dot{a}}{a}\\right)\\left(\\frac{a\\ddot{a} - \\dot{a}^2}{a^2}\\right) &= \\frac{8\\pi G}{3}\\dot{\\rho} + \\frac{2k}{a^2}\\frac{\\dot{a}}{a}, \\\\\n",
    "    \\frac{\\ddot{a}}{a}\\left(\\frac{\\dot{a}}{a}\\right) &= \\frac{4\\pi G}{3}\\dot{\\rho} + \\frac{k}{a^2}\\frac{\\dot{a}}{a} + \\left(\\frac{\\dot{a}}{a}\\right)^3.\n",
    "\\end{align*}\n",
    "Using the continuity equation:\n",
    "\\begin{align*}\n",
    "    \\dot{\\rho} + 3\\frac{\\dot{a}}{a}(\\rho + P) &= 0,\n",
    "\\end{align*}\n",
    "to substitute for $\\dot\\rho$:\n",
    "\\begin{align*}\n",
    "    \\frac{\\ddot{a}}{a}\\left(\\frac{\\dot{a}}{a}\\right) &= -4\\pi G\\frac{\\dot{a}}{a}(\\rho + P) + \\frac{k}{a^2}\\frac{\\dot{a}}{a} + \\left(\\frac{\\dot{a}}{a}\\right)^3, \\\\\n",
    "    \\frac{\\ddot{a}}{a} &= -4\\pi G(\\rho + P) + \\frac{k}{a^2} + \\left(\\frac{\\dot{a}}{a}\\right)^2.\n",
    "\\end{align*}\n",
    "Now subbing back in FE I:\n",
    "\\begin{align*}\n",
    "    \\frac{\\ddot{a}}{a} &= -4\\pi G(\\rho + P) + \\frac{k}{a^2} + \\frac{8\\pi G}{3}\\rho - \\frac{k}{a^2} \\\\\n",
    "    &= -\\frac{4\\pi G}{3}(3\\rho + 3P) + \\frac{8\\pi G}{3}\\rho \\\\\n",
    "    &= -\\frac{4\\pi G}{3}(\\rho + 3P).\n",
    "\\end{align*}"
   ]
  },
  {
   "cell_type": "markdown",
   "id": "eb1e57d2",
   "metadata": {},
   "source": [
    "# Cosmological Dimming\n",
    "\n",
    "Show that the observed (bolometric, see below) surface brightness $I_o$ of a source at redshift $z$ is related to its intrinsic surface brightness $I_e$ by:\n",
    "\\begin{align*}\n",
    "    I_o &= I_e(1+z)^{-4}.\n",
    "\\end{align*}"
   ]
  },
  {
   "cell_type": "markdown",
   "id": "35c3c5be",
   "metadata": {},
   "source": [
    "### *Solution:*\n",
    "\n",
    "Let's start by considering the normal flux equation:\n",
    "\\begin{align*}\n",
    "    F &= \\frac{L}{4\\pi d_L^2},\n",
    "\\end{align*}\n",
    "where $L$ is our the luminosity and $d_L$ is the luminosity distance. This is related to comoving distance $d_M$ by:\n",
    "\\begin{align*}\n",
    "    d_L &= (1 + z)d_M,\n",
    "\\end{align*}\n",
    "where $d_M = \\chi$ for a flat universe. Let's also express luminosity as an energy output per unit time:\n",
    "\\begin{align*}\n",
    "    L &= \\frac{dE}{dt}.\n",
    "\\end{align*}\n",
    "Let's now consider the ratio of fluxes at the emitted and observed timeframes:\n",
    "\\begin{align*}\n",
    "    \\frac{F_o}{F_e} &= \\frac{\\frac{dE_o}{dt_o(1 + z)^2d_M^2}}{\\frac{dE_e}{dt_ed_M^2}} = \\frac{dE_odt_e}{dE_edt_o}(1+z)^{-2}.\n",
    "\\end{align*}\n",
    "Considering each differential, energy gets redshifted away:\n",
    "\\begin{align*}\n",
    "    dE_o \\propto \\frac{1}{a(t)}dE_e = (1+z)^{-1}dE_e,\n",
    "\\end{align*}\n",
    "while time slows down (another way of saying, redshifting is taking place):\n",
    "\\begin{align*}\n",
    "    dt_e &= a(t_e)d\\eta, \\\\\n",
    "    dt_0 &= a(t_0)d\\eta, \\\\\n",
    "    dt_0 &\\propto \\frac{a(t_0)}{a(t_e)}dt_e = (1+z)dt_e.\n",
    "\\end{align*}\n",
    "Plugging these in:\n",
    "\\begin{align*}\n",
    "    \\frac{F_o}{F_e} &= \\left((1+z)^{-1}\\frac{dE_e}{dE_e}\\right)\\left((1+z)^{-1}\\frac{dt_e}{dt_e}\\right)(1+z)^{-2} \\\\\n",
    "    &= (1+z)^{-4}.\n",
    "\\end{align*}\n",
    "Finally, we will assume a definition for our bolometric surface brightness consistant with the flux ratios such that $I_o/I_e = F_o/F_e$, therefore:\n",
    "\\begin{align*}\n",
    "    I_o &= I_e(1+z)^{-4}.\n",
    "\\end{align*}"
   ]
  },
  {
   "cell_type": "markdown",
   "id": "501ee349",
   "metadata": {},
   "source": [
    "# Magnitudes and K-corrections\n",
    "\n",
    "This problem builds on our discussion of luminosity distances, highlighting some standard observational terminology as well as a few subtleties.\n",
    "\n",
    "Define the apparent magnitude of an object with observed flux $f$ as:\n",
    "\\begin{align*}\n",
    "    m &= -2.5\\log_{10}\\left[\\frac{f}{f_0}\\right]\n",
    "\\end{align*}\n",
    "where $f_0$ is the flux of a standard (traditionally Vega, but more modern systems use “AB- magnitudes”). The absolute magnitude $M$ is defined as the apparent magnitude a source would have if it were at a distance of 10 pc."
   ]
  },
  {
   "cell_type": "markdown",
   "id": "ecff0356",
   "metadata": {},
   "source": [
    "### part a\n",
    "\n",
    "Using these definitions, show that:\n",
    "\\begin{align*}\n",
    "    m &= M + DM(z),\n",
    "\\end{align*}\n",
    "where $DM(z)$ is the “distance modulus” defined by:\n",
    "\\begin{align*}\n",
    "    DM(z) &= 5\\log_{10}\\left[\\frac{D_L(z)}{\\text{10 pc}}\\right]\n",
    "\\end{align*}"
   ]
  },
  {
   "cell_type": "markdown",
   "id": "6c243848",
   "metadata": {},
   "source": [
    "### *Solution:*\n",
    "\n",
    "Let's define flux:\n",
    "\\begin{align*}\n",
    "    f &= \\frac{I}{4\\pi D_L(z)^2},\n",
    "\\end{align*}\n",
    "and flux at 10 pc:\n",
    "\\begin{align*}\n",
    "    f_{10} &= \\frac{I}{4\\pi(\\text{10 pc})^2},\n",
    "\\end{align*}\n",
    "so a dimensionless flux referenced to this quantity is:\n",
    "\\begin{align*}\n",
    "    \\frac{f}{f_{10}} &= \\left(\\frac{\\text{10 pc}}{D_L(z)}\\right)^2.\n",
    "\\end{align*}\n",
    "now lets write the apparent magnitude:\n",
    "\\begin{align*}\n",
    "    m &= -2.5\\log_{10}\\left[\\frac{f}{f_0}\\right] \\\\\n",
    "    &= -2.5\\log_{10}\\left[\\frac{f_{10}}{f_0}\\frac{f}{f_{10}}\\right] \\\\\n",
    "    &= -2.5\\log_{10}\\left[\\frac{f_{10}}{f_0}\\right] - 2.5\\log_{10}\\left[\\frac{f}{f_{10}}\\right].\n",
    "\\end{align*}\n",
    "The first term is the absolute magnitude. The second we can still manipulate:\n",
    "\\begin{align*}\n",
    "    m &= M - 2.5\\log_{10}\\left[\\left(\\frac{\\text{10 pc}}{D_L(z)}\\right)^2\\right] \\\\\n",
    "    &= M - 5\\log_{10}\\left[\\frac{\\text{10 pc}}{D_L(z)}\\right] \\\\\n",
    "    &= M + 5\\log_{10}\\left[\\frac{D_L(z)}{\\text{10 pc}}\\right],\n",
    "\\end{align*}\n",
    "this second term is now the distance measure:\n",
    "\\begin{align*}\n",
    "    m &= M + DM(z).\n",
    "\\end{align*}"
   ]
  },
  {
   "cell_type": "markdown",
   "id": "d166f647",
   "metadata": {},
   "source": [
    "### part b\n",
    "\n",
    "So far, so good. However, these expressions are true for bolometric quantities (i.e. total fluxes integrated over all wavelengths). Astronomical observations are often done in wavelength bandpasses, and this gives rise to the K-correction term. Let us see how this comes about.\n",
    "\n",
    "Consider the differential flux $f_\\nu$ and the corresponding differential luminosity $L_\\nu$, defined as the flux/luminosity per unit frequency such that:\n",
    "\\begin{align*}\n",
    "    f &= \\int f_\\nu d\\nu, \\\\\n",
    "    L &= \\int L_\\nu d\\nu.\n",
    "\\end{align*}\n",
    "Explain why:\n",
    "\\begin{align*}\n",
    "    S_\\nu &= (1+z)\\frac{L_{\\nu(1+z)}}{L_\\nu}\\frac{L_\\nu}{4\\pi D_L^2}.\n",
    "\\end{align*}\n",
    "The apparent magnitude formula then gets modified to\n",
    "\\begin{align*}\n",
    "    m &= M + DM + K,\n",
    "\\end{align*}\n",
    "where the K-correction is:\n",
    "\\begin{align*}\n",
    "    K &= -2.5\\log_{10}\\left[(1+z)\\frac{L_{\\nu(1+z)}}{L_\\nu}\\right].\n",
    "\\end{align*}\n",
    "The paper by Hogg 1999 in the bibliography is very useful here, as is the follow up paper on K-corrections."
   ]
  },
  {
   "cell_type": "markdown",
   "id": "f066d86a",
   "metadata": {},
   "source": [
    "### *Solution:*\n",
    "\n",
    "Similarly as our apparent magnitude must be adjusted due to change in distance of the source objects causing it to be brighter or dimmer, now we must account for extinction causing the source to be brighter or dimmer, which is a frequency dependent effect. Instead of bolometric flux, we now have an equation for the spectral flux $S_\\nu$:\n",
    "\\begin{align*}\n",
    "    S_\\nu &= (1+z)\\frac{L_{\\nu(1+z)}}{L_\\nu}\\frac{L_\\nu}{4\\pi D_L^2}.\n",
    "\\end{align*}\n",
    "The rightmost term comprised of the luminosity $L_\\nu/4\\pi D_L^2$ looks like our original flux equation. The middle term $L_{\\nu(1+z)}/L_\\nu$ is a correction to account for that fact that the observed frequency will be lower than the emitted frequency due to redshifting, i.e. the host galaxy will be bluer than it appears and therefore not experience as much extinction as expected if we did not account for redshift. The final factor of $(1+\\nu)$ comes about because we really have a spectral flux density:\n",
    "\\begin{align*}\n",
    "    S_{\\nu,o} &= \\frac{dS_o}{d\\nu_o}.\n",
    "\\end{align*}\n",
    "As photon energy is redshifted away, frequency $\\nu$ decreases with expansion, as such:\n",
    "\\begin{align*}\n",
    "    \\nu_o &= (1+z)^{-1}\\nu_e,\n",
    "\\end{align*}\n",
    "therefore:\n",
    "\\begin{align*}\n",
    "    S_{\\nu,o} &= (1 + z)\\frac{dS_o}{d\\nu_e}.\n",
    "\\end{align*}\n",
    "This redshifting of frequency explains the $(1 + z)$ factor out front."
   ]
  },
  {
   "cell_type": "markdown",
   "id": "461621b1",
   "metadata": {},
   "source": [
    "# A Static Universe\n",
    "\n",
    "This is a modified version of Huterer, 3.10.\n",
    "\n",
    "Consider the Friedmann equation where we explicitly write out the contributions from matter $\\rho_m$, the cosmological constant $\\Lambda$, and curvature $k = \\kappa/R_0^2$:\n",
    "\\begin{align*}\n",
    "    \\left(\\frac{\\dot{a}}{a}\\right)^2 &= \\frac{8\\pi G}{3}\\rho_m + \\frac{\\Lambda}{3} - \\frac{k}{a^2}.\n",
    "\\end{align*}\n",
    "Now (and we will discuss this in class further), matter has no pressure, and $P_\\Lambda = -\\rho_\\Lambda$."
   ]
  },
  {
   "cell_type": "markdown",
   "id": "b48078c7",
   "metadata": {},
   "source": [
    "### part a\n",
    "\n",
    "Write out the second Friedmann equation for this model. You will need to recast the cosmological constant term as a density. Do so by making it look like the matter density in the first Friedmann equation. Finally, the density and pressure can be written as a sum of the individual components."
   ]
  },
  {
   "cell_type": "markdown",
   "id": "ef46043d",
   "metadata": {},
   "source": [
    "### *Solution:*\n",
    "\n",
    "Let's first rewrite FE I so the dark energy term looks like a density:\n",
    "\\begin{align*}\n",
    "    \\left(\\frac{\\dot{a}}{a}\\right)^2 &= \\frac{8\\pi G}{3}\\rho_m + \\frac{\\Lambda}{3} - \\frac{k}{a^2} \\\\\n",
    "    &= \\frac{8\\pi G}{3}\\rho_m + \\frac{\\Lambda}{3}\\frac{8\\pi G}{8\\pi G} - \\frac{k}{a^2} \\\\\n",
    "    &= \\frac{8\\pi G}{3}\\left(\\rho_m + \\frac{\\Lambda}{8\\pi G}\\right) - \\frac{k}{a^2} \\\\\n",
    "    &= \\frac{8\\pi G}{3}\\left(\\rho_m + \\rho_\\Lambda\\right) - \\frac{k}{a^2} \\\\\n",
    "    &= \\frac{8\\pi G}{3}\\rho - \\frac{k}{a^2}.\n",
    "\\end{align*}\n",
    "where $\\rho$ is defined as the sum of the two terms. This looks like our normal form for FE I, so now let's write FE II and expand:\n",
    "\\begin{align*}\n",
    "    \\frac{\\ddot{a}}{a} &= -\\frac{4\\pi G}{3}\\left(\\rho + 3P\\right) \\\\\n",
    "    &= -\\frac{4\\pi G}{3}\\left(\\rho_m + \\rho_\\Lambda + 3(P_m + P_\\Lambda)\\right).\n",
    "\\end{align*}\n",
    "Let's also account for $P_\\Lambda = -\\rho_\\Lambda$ and $P_m = 0$:\n",
    "\\begin{align*}\n",
    "    \\frac{\\ddot{a}}{a} &= -\\frac{4\\pi G}{3}\\left(\\rho_m - 2\\rho_\\Lambda\\right) \\\\\n",
    "    &= -\\frac{4\\pi G}{3}\\rho_m + \\frac{8\\pi G}{3}\\rho_\\Lambda \\\\\n",
    "    &= -\\frac{4\\pi G}{3}\\rho_m + \\frac{\\Lambda}{3}.\n",
    "\\end{align*}"
   ]
  },
  {
   "cell_type": "markdown",
   "id": "3850123e",
   "metadata": {},
   "source": [
    "### part b\n",
    "\n",
    "Find a value of $\\Lambda$ and $k$ such that $\\dot{a} = 0$ and $\\ddot{a} = 0$. Is this Universe open, closed or flat?"
   ]
  },
  {
   "cell_type": "markdown",
   "id": "423bdcba",
   "metadata": {},
   "source": [
    "### *Solution:*\n",
    "\n",
    "Let's set $\\dot{a} = \\ddot{a} = 0$ in both equations. FE II gives us:\n",
    "\\begin{align*}\n",
    "    \\Lambda &= 4\\pi G\\rho_m,\n",
    "\\end{align*}\n",
    "and FE I gives us:\n",
    "\\begin{align*}\n",
    "    k &= a^2\\left(\\frac{8\\pi G}{3}\\rho_m + \\frac{\\Lambda}{3}\\right) \\\\\n",
    "    &= a^2\\left(\\frac{8\\pi G}{3}\\rho_m + \\frac{4\\pi G}{3}\\rho_m\\right) \\\\\n",
    "    &= 4\\pi Ga^2\\rho_m.\n",
    "\\end{align*}\n",
    "For any nonzero positive $\\rho_m$, $k > 0$ which means the universe is closed. Alternatively, if there were no matter $\\rho_m = 0$, then $k = 0$ and the universe would be flat."
   ]
  },
  {
   "cell_type": "markdown",
   "id": "42d5b778",
   "metadata": {},
   "source": [
    "### part c\n",
    "\n",
    "This is, by construction, a static Universe, and was one constructed by Einstein. However, it is also unstable to perturbations. To see this, imagine perturbing the scale factor by:\n",
    "\\begin{align*}\n",
    "    a(t) = 1 + \\delta a(t).\n",
    "\\end{align*}\n",
    "To lowest order, this perturbs the matter density by:\n",
    "\\begin{align*}\n",
    "    \\rho_m(t) &= \\rho_m[1 - 3\\delta a(t)].\n",
    "\\end{align*}\n",
    "The cosmological constant is unaffected (it is a constant after all).\n",
    "\n",
    "Substitute this into the second Friedmann equation and derive a differential equation for $\\delta a(t)$. Your answer should only depend on $\\Lambda$."
   ]
  },
  {
   "cell_type": "markdown",
   "id": "98c370ac",
   "metadata": {},
   "source": [
    "### *Solution:*\n",
    "\n",
    "Plugging in the perturbed $a(t)$ and $\\rho_m(t)$ to FE II:\n",
    "\\begin{align*}\n",
    "    \\frac{\\ddot{a}}{a} &= -\\frac{4\\pi G}{3}\\rho_m + \\frac{\\Lambda}{3}, \\\\\n",
    "    \\frac{\\delta\\ddot{a}}{1 + \\delta a(t)} &= -\\frac{4\\pi G\\rho_m}{3}[1 - 3\\delta a(t)] + \\frac{\\Lambda}{3}, \\\\\n",
    "    \\delta\\ddot{a} &= -\\left(1 + \\delta a(t)\\right)\\left(\\frac{4\\pi G\\rho_m}{3}[1 - 3\\delta a(t)] + \\frac{\\Lambda}{3}\\right).\n",
    "\\end{align*}\n",
    "Let's substitute $4\\pi G\\rho_m  = \\Lambda$:\n",
    "\\begin{align*}\n",
    "    \\delta\\ddot{a} &= -\\left(1 + \\delta a(t)\\right)\\left(\\frac{\\Lambda}{3}[1 - 3\\delta a(t)] + \\frac{\\Lambda}{3}\\right) \\\\\n",
    "    &= -\\frac{\\Lambda}{3}\\left(1 + \\delta a(t)\\right)\\left(2 - 3\\delta a(t)\\right) \\\\\n",
    "    &= -\\frac{\\Lambda}{3}\\left(2 - \\delta a(t) - 3\\delta a(t)^2\\right) \\\\\n",
    "    &= -\\frac{\\Lambda}{3}\\left(2 - \\delta a(t)\\right).\n",
    "\\end{align*}\n",
    "In the last step we eliminated the $\\delta a(t)^2$ term since $\\delta a(t) \\ll 1$."
   ]
  },
  {
   "cell_type": "markdown",
   "id": "54c8a208",
   "metadata": {},
   "source": [
    "### part d\n",
    "\n",
    "Solve for $\\delta a(t)$. You may assume initial conditions $\\delta a(t) = \\delta a_0$ and $d\\dot a = 0$. Explain why this is an unstable solution."
   ]
  },
  {
   "cell_type": "markdown",
   "id": "fec5ed4a",
   "metadata": {},
   "source": [
    "### *Solution:*\n",
    "\n",
    "Let's define $y \\equiv \\delta a(t)$ and $c \\equiv \\Lambda/3$ for simplicity. We have to solve:\n",
    "\\begin{align*}\n",
    "    \\ddot{y} - cy &= -2c.\n",
    "\\end{align*}\n",
    "We start by guessing a particular solution $y_p = A$:\n",
    "\\begin{align*}\n",
    "    -A &= -2c, \\\\\n",
    "    A &= 2c.\n",
    "\\end{align*}\n",
    "Okay great, now let's guess the general solution to:\n",
    "\\begin{align*}\n",
    "    \\ddot{y} &= cy.\n",
    "\\end{align*}\n",
    "The general solution should be an exponential:\n",
    "\\begin{align*}\n",
    "    y(t) &= Be^{\\sqrt{c}t} + Ce^{-\\sqrt{c}t}.\n",
    "\\end{align*}\n",
    "Let's use our initial conditions $y(0) = y_0$, $\\dot{y}(0) = 0$. 1st condition:\n",
    "\\begin{align*}\n",
    "    y_0 &= B + C.\n",
    "\\end{align*}\n",
    "2nd condition:\n",
    "\\begin{align*}\n",
    "    0 &= \\sqrt{c}Be^{\\sqrt{c}t} - \\sqrt{c}Ce^{-\\sqrt{c}t}, \\\\\n",
    "    0 &= B - C, \\\\\n",
    "    B = C.\n",
    "\\end{align*}\n",
    "Therefore, $B = C = y_0/2$. So our final solution is:\n",
    "\\begin{align*}\n",
    "    y(t) &= \\frac{y_0}{2}e^{\\sqrt{c}t} + \\frac{y_0}{2}e^{-\\sqrt{c}t} + 2c,\n",
    "\\end{align*}\n",
    "or converting back to original variables:\n",
    "\\begin{align*}\n",
    "    \\delta a(t) &= \\frac{\\delta a_0}{2}e^{\\sqrt{\\frac{\\Lambda}{3}}t} + \\frac{\\delta a_0}{2}e^{-\\sqrt{\\frac{\\Lambda}{3}}t} + \\frac{2\\Lambda}{3} \\\\\n",
    "    &= \\frac{\\delta a_0}{2}\\cosh\\left(\\sqrt{\\frac{\\Lambda}{3}}t\\right) + \\frac{2\\Lambda}{3} \\\\\n",
    "\\end{align*}\n",
    "The hyperbolic cotangent function will very quickly blow up the value of $\\delta a(t)$, leading it to no longer be just a perturbation, i.e. the universe will rapidly exit it's stable equilibrium state. This indicates the static universe is unstable. The only possible case where a static universe could be stable is an empty one, since stability can be satisfied if $\\Lambda = 0$, but that also requires $\\rho_m = k = 0$."
   ]
  },
  {
   "cell_type": "markdown",
   "id": "e7f6d270",
   "metadata": {},
   "source": [
    "# Redshift Drift\n",
    "\n",
    "This is a modified version of Problem 2.6 in Huterer, A Course in Cosmology.\n",
    "\n",
    "### part a\n",
    "\n",
    "Can one directly observe the expansion of the Universe through a changing redshift? To explore this, start from the definition of redshift:\n",
    "\\begin{align*}\n",
    "    1 + z &= \\frac{a(t_0)}{a(t_1)},\n",
    "\\end{align*}\n",
    "and show that:\n",
    "\\begin{align*}\n",
    "    \\frac{dz}{dt_0} &= (1+z)H_0 - H(t_1).\n",
    "\\end{align*}\n",
    "\n",
    "To derive this, you may need to derive an expression for $dt_1/dt_0$ which you can do by e.g. relating the frequency of light emitted at $t_1$ to that observed at $t_0$. (A similar factor comes into the definition of the luminosity distance)."
   ]
  },
  {
   "cell_type": "markdown",
   "id": "c14b0f27",
   "metadata": {},
   "source": [
    "### *Solution:*\n",
    "\n",
    "Let's first derive the factor $dt_1/dt_0$. We'll write down the relation for frequency between $\\nu(t_0)$ and $\\nu(t_1)$:\n",
    "\\begin{align*}\n",
    "    \\nu(t_0) &= (1 + z)^{-1}\\nu(t_1), \\\\\n",
    "    \\frac{\\nu(t_0)}{\\nu(t_1)} &= (1 + z)^{-1}.\n",
    "\\end{align*}\n",
    "By dimensional analysis, $\\nu$ has units of inverse time, and as such $\\nu^{-1} \\propto dt$, allowing us to rewrite:\n",
    "\\begin{align*}\n",
    "    \\frac{dt_1}{dt_0} &= (1 + z)^{-1}.\n",
    "\\end{align*}\n",
    "Now that we have that, let's take a first derivative of the redshift definition:\n",
    "\\begin{align*}\n",
    "    \\frac{dz}{dt_0} &= \\frac{d}{dt_0}\\frac{a(t_0)}{a(t_1)} \\\\\n",
    "    &= \\frac{a(t_1)\\dot{a}(t_0) - a(t_0)\\dot{a}(t_1)\\frac{dt_1}{dt_0}}{a^2(t_1)} \\\\\n",
    "    &= \\frac{\\dot{a}(t_0)}{a(t_1)} - \\frac{a(t_0)}{a(t_1)}\\frac{\\dot{a}(t_1)}{a(t_1)}\\frac{dt_1}{dt_0} \\\\\n",
    "    &= \\frac{\\dot{a}(t_0)}{a(t_0)}\\frac{a(t_0)}{a(t_1)} - \\frac{a(t_0)}{a(t_1)}\\frac{\\dot{a}(t_1)}{a(t_1)}(1 + z)^{-1} \\\\\n",
    "    &= \\left(H_0 - (1 + z)^{-1}H(t_1)\\right)\\frac{a(t_0)}{a(t_1)} \\\\\n",
    "    &= (1 + z)H_0 - H(t_1).\n",
    "\\end{align*}"
   ]
  },
  {
   "cell_type": "markdown",
   "id": "b9216e13",
   "metadata": {},
   "source": [
    "### part b\n",
    "\n",
    "Now, let’s do some simple estimates. For a matter dominated flat Universe, we will show that:\n",
    "\\begin{align*}\n",
    "    H(z) &= H_0(1 + z)^{3/2}.\n",
    "\\end{align*}\n",
    "Using this, estimate the change in redshift for an object at $z = 1$. Assume $H_0 = 100h$ km/s/Mpc.\n",
    "\n",
    "You may find arXiv:0310808 an interesting read on redshifts, and you will find a discussion of\n",
    "this effect towards the end of this article.\n",
    "\n",
    "\\begin{align*}\n",
    "    \\frac{dz}{dt_0} &= (1+z)H_0 - H(t_1).\n",
    "\\end{align*}"
   ]
  },
  {
   "cell_type": "markdown",
   "id": "aa58c537",
   "metadata": {},
   "source": [
    "### *Solution:*\n",
    "\n",
    "Let's use to the above formula to replace $H(t_1)$ with $H(z=1)$:\n",
    "\\begin{align*}\n",
    "    \\frac{dz}{dt_0} &= (1 + z)H_0 - H_0(1 + z)^{3/2} \\\\\n",
    "    &= H_0\\left((1 + z) - (1 + z)^{3/2}\\right),\n",
    "\\end{align*}\n",
    "now let's plug in $z = 1$ and $H_0 = 100h$ km/s/Mpc:\n",
    "\\begin{align*}\n",
    "    \\frac{dz}{dt_0} &= 100h\\left(2 - 2^{3/2}\\right)\\text{ km/s/Mpc} \\\\\n",
    "    &= -200\\left(2^{1/2} - 1\\right)\\text{ km/s/Mpc}.\n",
    "\\end{align*}\n",
    "It makes sense that $dz/dt_0$ is negative, since the universe at lower $z$ is actually older than the universe at higher $z$. Integrating this to find a functional form for $z(t)$ is messy, so instead lets estimate how large a $\\Delta z$ might be given some timeshift $\\Delta t$, assuming $\\Delta t$ is small:\n",
    "\\begin{align*}\n",
    "    \\Delta z &= 100h\\left(2 - 2^{3/2}\\right)\\Delta t\\text{ km/s/Mpc}.\n",
    "\\end{align*}"
   ]
  },
  {
   "cell_type": "code",
   "execution_count": 46,
   "id": "4332f1ee",
   "metadata": {},
   "outputs": [],
   "source": [
    "# input time in units of years\n",
    "def dz(dt_yr, h):\n",
    "    return 100*h*(2 - 2**(3/2))*dt_yr*3.154e+7/3.086e+19"
   ]
  },
  {
   "cell_type": "code",
   "execution_count": 47,
   "id": "fb00da6d",
   "metadata": {},
   "outputs": [
    {
     "data": {
      "text/plain": [
       "Text(0, 0.5, '$\\\\Delta z$')"
      ]
     },
     "execution_count": 47,
     "metadata": {},
     "output_type": "execute_result"
    },
    {
     "data": {
      "image/png": "[encoded data removed]",
      "text/plain": [
       "<Figure size 432x288 with 1 Axes>"
      ]
     },
     "metadata": {
      "image/png": {
       "height": 274,
       "width": 384
      },
      "needs_background": "light"
     },
     "output_type": "display_data"
    }
   ],
   "source": [
    "h_arr = np.array([0.6,0.65,0.7,0.75,0.8])\n",
    "dt_yr = np.linspace(0,100,1000) # yr\n",
    "for h in h_arr:\n",
    "    plt.plot(dt_yr, dz(dt_yr, h), label=f'h = {h}')\n",
    "plt.legend()\n",
    "plt.xlabel(r'$\\Delta t$ (yr)')\n",
    "plt.ylabel(r'$\\Delta z$')"
   ]
  },
  {
   "cell_type": "markdown",
   "id": "83a78752",
   "metadata": {},
   "source": [
    "So it seems the best we can expect to measure for a change in redshift at $z = 1$ over a human lifetime is roughly $\\Delta z \\sim 0.7\\cdot10^{-9}$."
   ]
  },
  {
   "cell_type": "code",
   "execution_count": null,
   "id": "1b82a319",
   "metadata": {},
   "outputs": [],
   "source": []
  }
 ],
 "metadata": {
  "kernelspec": {
   "display_name": "Python 3 (ipykernel)",
   "language": "python",
   "name": "python3"
  },
  "language_info": {
   "codemirror_mode": {
    "name": "ipython",
    "version": 3
   },
   "file_extension": ".py",
   "mimetype": "text/x-python",
   "name": "python",
   "nbconvert_exporter": "python",
   "pygments_lexer": "ipython3",
   "version": "3.10.12"
  }
 },
 "nbformat": 4,
 "nbformat_minor": 5
}
